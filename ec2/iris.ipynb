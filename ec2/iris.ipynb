{
 "cells": [
  {
   "cell_type": "code",
   "execution_count": null,
   "id": "3a23fbcb-45a1-490a-bebe-33a1b6fce37f",
   "metadata": {},
   "outputs": [],
   "source": [
    "\n",
    "\n"
   ]
  },
  {
   "cell_type": "code",
   "execution_count": 14,
   "id": "8886821d-7c49-4250-b881-ba8d0d41bac7",
   "metadata": {},
   "outputs": [],
   "source": [
    "import numpy as np\n",
    "import joblib\n",
    "from sklearn.ensemble import RandomForestClassifier\n",
    "from sklearn.neighbors import KNeighborsClassifier\n",
    "from sklearn.linear_model import LogisticRegression \n",
    "from sklearn.svm import SVC\n",
    "from sklearn.datasets import load_iris\n",
    "from fastapi import FastAPI, File, UploadFile, HTTPException\n",
    "from pydantic import BaseModel"
   ]
  },
  {
   "cell_type": "code",
   "execution_count": 9,
   "id": "fc96e66a-526e-4bd0-97be-f5286b456acb",
   "metadata": {},
   "outputs": [],
   "source": [
    "\n",
    "def train_model(data_path, model_type=\"random_forest\", save_path=\"iris_sagemaker.pkl\"):\n",
    "    # In a real application, you would load data from data_path\n",
    "    # For now, we're using the built-in dataset as a fallback\n",
    "    try:\n",
    "        # Code to load data from the CSV would go here\n",
    "        # For now, using the built-in dataset\n",
    "        iris = load_iris()\n",
    "        X, y = iris.data, iris.target   #type: ignore\n",
    "    except Exception as e:\n",
    "        print(f\"Error loading data from {data_path}, using built-in dataset: {e}\")\n",
    "        iris = load_iris()\n",
    "        X, y = iris.data, iris.target   #type: ignore\n",
    "\n",
    "    if model_type == \"random_forest\":\n",
    "        model = RandomForestClassifier()\n",
    "    elif model_type == \"svm\":\n",
    "        model = SVC(probability=True)\n",
    "    elif model_type == \"knn\":\n",
    "        model = KNeighborsClassifier()\n",
    "    elif model_type == \"logreg\":\n",
    "        model = LogisticRegression() \n",
    "    else:\n",
    "        raise ValueError(\"Unsupported model type\")\n",
    "\n",
    "    model.fit(X, y)\n",
    "    joblib.dump(model, save_path)\n",
    "    return model\n",
    "\n",
    "def load_model(model_path=\"iris_sagemaker.pkl\"):\n",
    "    try:\n",
    "        return joblib.load(model_path)\n",
    "    except FileNotFoundError:\n",
    "        # If model doesn't exist, train a new one\n",
    "        print(f\"Model not found at {model_path}, training a new one...\")\n",
    "        return train_model(None, save_path=model_path)\n",
    "    except Exception as e:\n",
    "        print(f\"Error loading model: {e}\")\n",
    "        # Return a default model\n",
    "        return train_model(None, save_path=model_path)\n",
    "\n",
    "def predict(model, input_data):\n",
    "    input_array = np.array(input_data).reshape(1, -1)\n",
    "    prediction = model.predict(input_array)[0]\n",
    "    iris = load_iris()\n",
    "    return iris.target_names[prediction] #type:ignore"
   ]
  },
  {
   "cell_type": "code",
   "execution_count": 10,
   "id": "defad5ba-be80-401e-8cd4-9b3033f90bb6",
   "metadata": {},
   "outputs": [
    {
     "name": "stdout",
     "output_type": "stream",
     "text": [
      "/home/ec2-user/SageMaker/aws_ec2_s3_advanced/ec2\n"
     ]
    }
   ],
   "source": [
    "! pwd"
   ]
  },
  {
   "cell_type": "code",
   "execution_count": 11,
   "id": "5ba320ba-38d2-4f4f-b17a-0d0b47783b0e",
   "metadata": {},
   "outputs": [],
   "source": [
    "model = train_model(data_path = \"/home/ec2-user/SageMaker/aws_ec2_s3_advanced/ec2/data.csv\", model_type=\"random_forest\", save_path=\"iris_sagemaker.pkl\")"
   ]
  },
  {
   "cell_type": "code",
   "execution_count": 12,
   "id": "4f7e9acc-0b1e-4ab1-8e5b-26e8e04558a9",
   "metadata": {},
   "outputs": [],
   "source": [
    "prediction = predict(model, [1.2, 2.3, 4.1, 0.5])"
   ]
  },
  {
   "cell_type": "code",
   "execution_count": 13,
   "id": "42638b03-ef60-4126-bf6f-4bc47d3699b2",
   "metadata": {},
   "outputs": [
    {
     "name": "stdout",
     "output_type": "stream",
     "text": [
      "setosa\n"
     ]
    }
   ],
   "source": [
    "print(prediction)"
   ]
  },
  {
   "cell_type": "code",
   "execution_count": null,
   "id": "58843d66-fa57-432d-bdf8-e2ce50fbb62d",
   "metadata": {},
   "outputs": [],
   "source": []
  }
 ],
 "metadata": {
  "kernelspec": {
   "display_name": "conda_python3",
   "language": "python",
   "name": "conda_python3"
  },
  "language_info": {
   "codemirror_mode": {
    "name": "ipython",
    "version": 3
   },
   "file_extension": ".py",
   "mimetype": "text/x-python",
   "name": "python",
   "nbconvert_exporter": "python",
   "pygments_lexer": "ipython3",
   "version": "3.10.17"
  }
 },
 "nbformat": 4,
 "nbformat_minor": 5
}
